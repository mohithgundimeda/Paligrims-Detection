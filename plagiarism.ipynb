{
 "cells": [
  {
   "cell_type": "code",
   "execution_count": 39,
   "id": "8b23377b-0de3-44dd-a941-9beba1dc72c1",
   "metadata": {},
   "outputs": [],
   "source": [
    "import os\n",
    "from sklearn.feature_extraction.text import TfidfVectorizer\n",
    "from sklearn.metrics.pairwise import cosine_similarity"
   ]
  },
  {
   "cell_type": "code",
   "execution_count": 8,
   "id": "10ca424c-c9cd-4619-a0eb-5b36da55dfee",
   "metadata": {},
   "outputs": [],
   "source": [
    "directory=r'C:\\Users\\mohit\\Downloads\\Plagiarism-checker-Python-master\\Plagiarism-checker-Python-master'\n",
    "docs=[doc for doc in os.listdir(directory) if doc.endswith('.txt')]"
   ]
  },
  {
   "cell_type": "code",
   "execution_count": 14,
   "id": "0aed0047-8f8f-40cc-8b66-b1f5844f1a74",
   "metadata": {
    "collapsed": true,
    "jupyter": {
     "outputs_hidden": true
    },
    "tags": []
   },
   "outputs": [
    {
     "data": {
      "text/plain": [
       "['fatma.txt', 'john.txt', 'juma.txt']"
      ]
     },
     "execution_count": 14,
     "metadata": {},
     "output_type": "execute_result"
    }
   ],
   "source": [
    "docs"
   ]
  },
  {
   "cell_type": "code",
   "execution_count": 17,
   "id": "73dd1127-d683-49a4-acf9-3cf3110ecd96",
   "metadata": {},
   "outputs": [],
   "source": [
    "texts=[open(file,encoding='utf-8').read() for file in docs]           "
   ]
  },
  {
   "cell_type": "code",
   "execution_count": 34,
   "id": "40c6d06b-25ce-4546-96f5-92eb7acd6b23",
   "metadata": {},
   "outputs": [
    {
     "data": {
      "text/plain": [
       "3"
      ]
     },
     "execution_count": 34,
     "metadata": {},
     "output_type": "execute_result"
    }
   ],
   "source": [
    "len(texts)"
   ]
  },
  {
   "cell_type": "code",
   "execution_count": 48,
   "id": "e619e4c1-58d1-43b0-8b1a-76cf03d2d757",
   "metadata": {},
   "outputs": [],
   "source": [
    "def vectorize(text):\n",
    "    return TfidfVectorizer().fit_transform(text).toarray()\n",
    "def similarity(text1,text2):\n",
    "    return cosine_similarity([text1,text2])[0][1]"
   ]
  },
  {
   "cell_type": "code",
   "execution_count": 28,
   "id": "88f2baeb-93bb-4985-82a7-2e5a7ed3b8fd",
   "metadata": {},
   "outputs": [],
   "source": [
    "vectors=vectorize(texts)"
   ]
  },
  {
   "cell_type": "code",
   "execution_count": 31,
   "id": "de55e57b-27a0-4eaf-9595-cbcdb1816d6c",
   "metadata": {},
   "outputs": [
    {
     "data": {
      "text/plain": [
       "(3, 41)"
      ]
     },
     "execution_count": 31,
     "metadata": {},
     "output_type": "execute_result"
    }
   ],
   "source": [
    "vectors.shape"
   ]
  },
  {
   "cell_type": "code",
   "execution_count": 50,
   "id": "81eca470-7700-4f11-9f52-c0fb781ef578",
   "metadata": {},
   "outputs": [],
   "source": [
    "zipped_vectors=list(zip(docs,vectors))\n",
    "plagiarism_results = set()"
   ]
  },
  {
   "cell_type": "code",
   "execution_count": 53,
   "id": "b7b46e14-6136-4530-893e-ab04c42030e3",
   "metadata": {},
   "outputs": [],
   "source": [
    "def find_plagiarism(zipped_vec):\n",
    "    for student_a , vector_a in zipped_vec:\n",
    "        temp=zipped_vec.copy()\n",
    "        index=zipped_vec.index((student_a,vector_a))\n",
    "        del temp[index]\n",
    "        for student_b , vector_b in temp:\n",
    "            sim_score=similarity(vector_a,vector_b)\n",
    "            students=sorted((student_a,student_b))\n",
    "            pair=(students[0],students[1],sim_score)\n",
    "            plagiarism_results.add(pair)\n",
    "    return plagiarism_results"
   ]
  },
  {
   "cell_type": "code",
   "execution_count": 54,
   "id": "f6d8bfad-f0fc-442a-a907-1f5423fcae74",
   "metadata": {},
   "outputs": [],
   "source": [
    "result=find_plagiarism(zipped_vectors)\n"
   ]
  },
  {
   "cell_type": "code",
   "execution_count": 55,
   "id": "a39bc6db-a0e5-48c2-a448-2c427d979a17",
   "metadata": {},
   "outputs": [
    {
     "data": {
      "text/plain": [
       "{('fatma.txt', 'john.txt', 0.14806887549598563),\n",
       " ('fatma.txt', 'juma.txt', 0.18643448370323357),\n",
       " ('john.txt', 'juma.txt', 0.5465972177348937)}"
      ]
     },
     "execution_count": 55,
     "metadata": {},
     "output_type": "execute_result"
    }
   ],
   "source": [
    "result"
   ]
  },
  {
   "cell_type": "code",
   "execution_count": null,
   "id": "87e31d8d-4d07-46d0-81ca-ad4202f79d53",
   "metadata": {},
   "outputs": [],
   "source": []
  }
 ],
 "metadata": {
  "kernelspec": {
   "display_name": "Python 3 (ipykernel)",
   "language": "python",
   "name": "python3"
  },
  "language_info": {
   "codemirror_mode": {
    "name": "ipython",
    "version": 3
   },
   "file_extension": ".py",
   "mimetype": "text/x-python",
   "name": "python",
   "nbconvert_exporter": "python",
   "pygments_lexer": "ipython3",
   "version": "3.11.5"
  }
 },
 "nbformat": 4,
 "nbformat_minor": 5
}
